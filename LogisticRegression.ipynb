{
  "nbformat": 4,
  "nbformat_minor": 0,
  "metadata": {
    "colab": {
      "name": "LogisticRegression.ipynb",
      "provenance": [],
      "collapsed_sections": []
    },
    "kernelspec": {
      "name": "python3",
      "display_name": "Python 3"
    }
  },
  "cells": [
    {
      "cell_type": "code",
      "metadata": {
        "id": "dSrlMudVzkLK",
        "outputId": "cca9c5df-8104-4a33-83ef-f9171aad504c",
        "colab": {
          "resources": {
            "http://localhost:8080/nbextensions/google.colab/files.js": {
              "data": "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",
              "ok": true,
              "headers": [
                [
                  "content-type",
                  "application/javascript"
                ]
              ],
              "status": 200,
              "status_text": ""
            }
          },
          "base_uri": "https://localhost:8080/",
          "height": 73
        }
      },
      "source": [
        "# Load the data from the Apporto machine to the Colab environment\n",
        "\n",
        "from google.colab import files\n",
        "uploaded = files.upload()"
      ],
      "execution_count": 2,
      "outputs": [
        {
          "output_type": "display_data",
          "data": {
            "text/html": [
              "\n",
              "     <input type=\"file\" id=\"files-a435cf3c-6bcd-43d0-a44a-ad4c21d9c253\" name=\"files[]\" multiple disabled\n",
              "        style=\"border:none\" />\n",
              "     <output id=\"result-a435cf3c-6bcd-43d0-a44a-ad4c21d9c253\">\n",
              "      Upload widget is only available when the cell has been executed in the\n",
              "      current browser session. Please rerun this cell to enable.\n",
              "      </output>\n",
              "      <script src=\"/nbextensions/google.colab/files.js\"></script> "
            ],
            "text/plain": [
              "<IPython.core.display.HTML object>"
            ]
          },
          "metadata": {
            "tags": []
          }
        },
        {
          "output_type": "stream",
          "text": [
            "Saving PersonalLoan.csv to PersonalLoan.csv\n"
          ],
          "name": "stdout"
        }
      ]
    },
    {
      "cell_type": "code",
      "metadata": {
        "id": "4i9RU4C60E2e"
      },
      "source": [
        "# Pandas is the Python package for data frames\n",
        "\n",
        "import pandas as pd"
      ],
      "execution_count": 3,
      "outputs": []
    },
    {
      "cell_type": "code",
      "metadata": {
        "id": "qx6Gdgiv03zY",
        "outputId": "2fd60d94-8872-488c-e51a-db4be4d50897",
        "colab": {
          "base_uri": "https://localhost:8080/",
          "height": 302
        }
      },
      "source": [
        "# Part 1 Data Acquisition\n",
        "\n",
        "# Read data from a CSV file into a data frame\n",
        "df = pd.read_csv('PersonalLoan.csv')\n",
        "\n",
        "# Display the first ten rows of the data frame to examine if it is an individual-level data set\n",
        "print(df.head(10))\n",
        "\n",
        "# Display the variable list\n",
        "print(df.columns.values)\n",
        "\n",
        "# Display the number of rows and the number of columns in the data set to confirm the portrait shape\n",
        "# The first element of the output is the number of rows and the second is the number of columns \n",
        "print(df.shape)"
      ],
      "execution_count": 4,
      "outputs": [
        {
          "output_type": "stream",
          "text": [
            "   Age  Experience  Income  ZIPCode  ...  CDAccount  Online  CreditCard  PersonalLoan\n",
            "0   25           1      49    91107  ...         No      No          No            No\n",
            "1   45          19      34    90089  ...         No      No          No            No\n",
            "2   39          15      11    94720  ...         No      No          No            No\n",
            "3   35           9     100    94112  ...         No      No          No            No\n",
            "4   35           8      45    91330  ...         No      No         Yes            No\n",
            "5   37          13      29    92121  ...         No     Yes          No            No\n",
            "6   53          27      72    91711  ...         No     Yes          No            No\n",
            "7   50          24      22    93943  ...         No      No         Yes            No\n",
            "8   35          10      81    90089  ...         No     Yes          No            No\n",
            "9   34           9     180    93023  ...         No      No          No           Yes\n",
            "\n",
            "[10 rows x 13 columns]\n",
            "['Age' 'Experience' 'Income' 'ZIPCode' 'Family' 'CCAvg' 'Education'\n",
            " 'Mortgage' 'SecuritiesAccount' 'CDAccount' 'Online' 'CreditCard'\n",
            " 'PersonalLoan']\n",
            "(5000, 13)\n"
          ],
          "name": "stdout"
        }
      ]
    },
    {
      "cell_type": "code",
      "metadata": {
        "id": "LWQNql93xXiF",
        "outputId": "5f181c73-bf19-488c-ec6e-417f17bc8785",
        "colab": {
          "base_uri": "https://localhost:8080/",
          "height": 235
        }
      },
      "source": [
        "# Part 3 Missing Value Imputation\n",
        "\n",
        "# Show the number of missing values for each variable in the data frame\n",
        "df.isnull().sum()\n",
        "\n",
        "# Drop ZIP Code for now\n",
        "rvar_list =['ZIPCode']\n",
        "df_sample1 = df.drop(columns=rvar_list)\n",
        "\n",
        "# Separate all the variables into two lists for future column indexing\n",
        "# One for numerical, the other for categorical \n",
        "cvar_list = ['Education', 'SecuritiesAccount', 'CDAccount', 'Online', 'CreditCard', 'PersonalLoan']\n",
        "nvar_list = ['Age', 'Experience', 'Income', 'Family', 'CCAvg', 'Mortgage']\n",
        "\n",
        "# Check if there is any missing value left\n",
        "df_sample1.isnull().sum()\n"
      ],
      "execution_count": 5,
      "outputs": [
        {
          "output_type": "execute_result",
          "data": {
            "text/plain": [
              "Age                  0\n",
              "Experience           0\n",
              "Income               0\n",
              "Family               0\n",
              "CCAvg                0\n",
              "Education            0\n",
              "Mortgage             0\n",
              "SecuritiesAccount    0\n",
              "CDAccount            0\n",
              "Online               0\n",
              "CreditCard           0\n",
              "PersonalLoan         0\n",
              "dtype: int64"
            ]
          },
          "metadata": {
            "tags": []
          },
          "execution_count": 5
        }
      ]
    },
    {
      "cell_type": "code",
      "metadata": {
        "id": "x8YJFw9nuDwJ",
        "outputId": "02728327-cbf2-414d-f26e-aa753771267b",
        "colab": {
          "base_uri": "https://localhost:8080/",
          "height": 538
        }
      },
      "source": [
        "# Part 4 Variable Transformation\n",
        "\n",
        "# Standardize the numerical variables \n",
        "df_sample2 = df_sample1.copy()\n",
        "df_sample2[nvar_list] = (df_sample1[nvar_list] - df_sample1[nvar_list].mean())/df_sample1[nvar_list].std()\n",
        "\n",
        "# Set the datatype for the variables in the cvar_list to be categorical in Python\n",
        "# Set the datatype for the variables in the nvar_list to be numerical in Python \n",
        "df_sample3 = df_sample2.copy()\n",
        "df_sample3[cvar_list] = df_sample2[cvar_list].astype('category')\n",
        "df_sample3[nvar_list] = df_sample2[nvar_list].astype('float64')\n",
        "\n",
        "# Convert the categorical variables into dummies (Step 1 of dummy coding)\n",
        "# prefix_sep is the sympol used to create the dummy variable names.\n",
        "\n",
        "df_sample4 = df_sample3.copy()\n",
        "df_sample4 = pd.get_dummies(df_sample3, prefix_sep='_')\n",
        "\n",
        "# Remove the redundant dummies (Step 2 of dummy coding)\n",
        "# Placeholder variable: rdummies\n",
        "rdummies = ['Education_1', 'SecuritiesAccount_Yes', 'CDAccount_Yes', 'Online_Yes', 'CreditCard_Yes', 'PersonalLoan_No']\n",
        "df_sample5 = df_sample4.copy()\n",
        "df_sample5 = df_sample4.drop(columns=rdummies)\n",
        "\n",
        "# Get the remaining variable list after the variable transformation\n",
        "print(df_sample5.columns.values)\n",
        "\n",
        "# Display the milestone dataframe. Compare it with the original dataframe.\n",
        "print(df_sample5)\n",
        "print(df)"
      ],
      "execution_count": 27,
      "outputs": [
        {
          "output_type": "stream",
          "text": [
            "['Age' 'Experience' 'Income' 'Family' 'CCAvg' 'Mortgage' 'Education_2'\n",
            " 'Education_3' 'SecuritiesAccount_No' 'CDAccount_No' 'Online_No'\n",
            " 'CreditCard_No' 'PersonalLoan_Yes']\n",
            "           Age  Experience  ...  CreditCard_No  PersonalLoan_Yes\n",
            "0    -1.774239   -1.665912  ...              1                 0\n",
            "1    -0.029521   -0.096321  ...              1                 0\n",
            "2    -0.552936   -0.445119  ...              1                 0\n",
            "3    -0.901880   -0.968316  ...              1                 0\n",
            "4    -0.901880   -1.055515  ...              0                 0\n",
            "...        ...         ...  ...            ...               ...\n",
            "4995 -1.425296   -1.491513  ...              1                 0\n",
            "4996 -1.338060   -1.404313  ...              1                 0\n",
            "4997  1.540726    1.647670  ...              1                 0\n",
            "4998  1.715198    1.734869  ...              1                 0\n",
            "4999 -1.512532   -1.404313  ...              0                 0\n",
            "\n",
            "[5000 rows x 13 columns]\n",
            "      Age  Experience  Income  ZIPCode  ...  CDAccount  Online  CreditCard  PersonalLoan\n",
            "0      25           1      49    91107  ...         No      No          No            No\n",
            "1      45          19      34    90089  ...         No      No          No            No\n",
            "2      39          15      11    94720  ...         No      No          No            No\n",
            "3      35           9     100    94112  ...         No      No          No            No\n",
            "4      35           8      45    91330  ...         No      No         Yes            No\n",
            "...   ...         ...     ...      ...  ...        ...     ...         ...           ...\n",
            "4995   29           3      40    92697  ...         No     Yes          No            No\n",
            "4996   30           4      15    92037  ...         No     Yes          No            No\n",
            "4997   63          39      24    93023  ...         No      No          No            No\n",
            "4998   65          40      49    90034  ...         No     Yes          No            No\n",
            "4999   28           4      83    92612  ...         No     Yes         Yes            No\n",
            "\n",
            "[5000 rows x 13 columns]\n"
          ],
          "name": "stdout"
        }
      ]
    },
    {
      "cell_type": "code",
      "metadata": {
        "id": "rCOHqUSGhq8v",
        "outputId": "f1803c43-e64e-4cc0-e993-67a1d45a40d7",
        "colab": {
          "base_uri": "https://localhost:8080/",
          "height": 252
        }
      },
      "source": [
        "# Part 5 Data Partiton\n",
        "\n",
        "# Required package: scikit-learn. Package name in Python: sklearn\n",
        "# Required subpackage: model_selection. Required function name: train_test_split\n",
        "from sklearn.model_selection import train_test_split\n",
        "\n",
        "# Placeholder variables: df4partition, testpart_size\n",
        "# test_size specifies the percentage for the test partition\n",
        "df4partition = df_sample5\n",
        "testpart_size = 0.2\n",
        "\n",
        "# random_state specifies the seed for random number generator. \n",
        "# random_state = 1 unless otherwised noted\n",
        "df_nontestData, df_testData = train_test_split(df4partition, test_size=testpart_size, random_state=1)\n",
        "\n",
        "print(df_nontestData)"
      ],
      "execution_count": 28,
      "outputs": [
        {
          "output_type": "stream",
          "text": [
            "           Age  Experience  ...  CreditCard_No  PersonalLoan_Yes\n",
            "1233  0.668367    0.775675  ...              1                 0\n",
            "1056 -0.814644   -1.229914  ...              1                 0\n",
            "1686  1.453490    1.560470  ...              1                 0\n",
            "187   0.057715    0.078078  ...              1                 1\n",
            "3840  0.930075    0.950074  ...              1                 0\n",
            "...        ...         ...  ...            ...               ...\n",
            "2895  1.279018    1.386071  ...              1                 0\n",
            "2763  0.842839    0.950074  ...              1                 0\n",
            "905   0.057715    0.165278  ...              0                 0\n",
            "3980  0.057715    0.165278  ...              1                 0\n",
            "235  -0.640172   -1.055515  ...              1                 0\n",
            "\n",
            "[4000 rows x 13 columns]\n"
          ],
          "name": "stdout"
        }
      ]
    },
    {
      "cell_type": "code",
      "metadata": {
        "id": "XI5ylTnomNaQ",
        "outputId": "6eb409d9-267b-47c1-e9ab-9927f3a1fb6c",
        "colab": {
          "base_uri": "https://localhost:8080/",
          "height": 252
        }
      },
      "source": [
        "# Part 6 Logistic Regression with Penalty \n",
        "\n",
        "# Required package: scikit-learn. Package name in Python: sklearn\n",
        "# Required subpackage: linear_model. \n",
        "# Required function name: LogisticRegression, LogisticRegressionCV\n",
        "\n",
        "from sklearn.linear_model import LogisticRegression, LogisticRegressionCV\n",
        "\n",
        "# Separate the predictor values and the DV values into X and y respectively\n",
        "# Placeholder variable: DV\n",
        "DV = 'PersonalLoan_Yes'\n",
        "y = df_nontestData[DV]\n",
        "X = df_nontestData.drop(columns=[DV])\n",
        "\n",
        "# Run Logistic regression with pre-specified penalty level (alpha)\n",
        "# Placeholder variable: alpha\n",
        "alpha = 10\n",
        "\n",
        "# The Logistic regression results are put into a model object clf\n",
        "clf = LogisticRegression(C=1/alpha, penalty='l1', solver='saga', max_iter=200, random_state=1).fit(X,y)\n",
        "\n",
        "# A user-defined function summary_coef\n",
        "# to display the estimated coefficients of a model candidate obtained by the Logistic Regression analysis\n",
        "def summary_coef(model_object):\n",
        "  n_predictors = X.shape[1]\n",
        "  model_coef = pd.DataFrame(model_object.coef_.reshape(1, n_predictors), columns=X.columns.values)\n",
        "  model_coef['Intercept'] = model_object.intercept_\n",
        "  return model_coef.transpose()\n",
        "\n",
        "print(summary_coef(clf))\n",
        "\n"
      ],
      "execution_count": 29,
      "outputs": [
        {
          "output_type": "stream",
          "text": [
            "                             0\n",
            "Age                   0.000000\n",
            "Experience            0.000000\n",
            "Income                2.275057\n",
            "Family                0.586373\n",
            "CCAvg                 0.192983\n",
            "Mortgage              0.054617\n",
            "Education_2           2.648378\n",
            "Education_3           2.842589\n",
            "SecuritiesAccount_No  0.000000\n",
            "CDAccount_No         -1.684072\n",
            "Online_No             0.117621\n",
            "CreditCard_No         0.176838\n",
            "Intercept            -4.386651\n"
          ],
          "name": "stdout"
        }
      ]
    },
    {
      "cell_type": "code",
      "metadata": {
        "id": "zOuolTzz81P2",
        "outputId": "035e5422-070f-4699-b29e-f8a82b036318",
        "colab": {
          "base_uri": "https://localhost:8080/",
          "height": 319
        }
      },
      "source": [
        "# Run Logistic regression with k-fold cross validation with k=5\n",
        "# Placeholder variable: kfolds\n",
        "kfolds = 5\n",
        "\n",
        "# Here we specify within which range of the penalty levels we will search for the optimal penalty level, \n",
        "# i.e., the level that leads to the best model candidate\n",
        "# We search the optimal alpha within [min_alpha, max_alpha]\n",
        "min_alpha = 0.001\n",
        "max_alpha = 100\n",
        "\n",
        "# We further discretize the continuous alpha range [min_alpha, max_alpha] into n individual points of alpha\n",
        "# We train n model candidates each of which corresponds to one individual alpha point\n",
        "n_candidates = 1000\n",
        "\n",
        "import numpy as np\n",
        "\n",
        "# We store the list of individual alpha points into alpha_list\n",
        "alpha_list = list(np.linspace(min_alpha, max_alpha, num=n_candidates))\n",
        "\n",
        "# C_list is the element-wise inverse of alpha_list. It is required as one of the paramater values for LogisticRegressionCV\n",
        "C_list = list(1/np.linspace(min_alpha, max_alpha, num=n_candidates))\n",
        "\n",
        "# Set n_jobs to be -1 to run LogisticRegressionCV on all CPU cores.\n",
        "clf_optimal = LogisticRegressionCV(Cs=C_list, cv=kfolds, penalty='l1', solver='saga', max_iter=200, random_state=1, n_jobs=-1).fit(X,y)\n",
        "\n",
        "# Display the estimated coefficients of the final selected model\n",
        "print(summary_coef(clf_optimal))\n",
        "\n",
        "# Display the optimal alpha that yields the final selected model (the best model candidate)\n",
        "print(1/clf_optimal.C_)\n",
        "\n",
        "# Calcuate the error rate over the test partition based on the final selected model\n",
        "\n",
        "# y_test_actual is the actual values of the DV in the test partition\n",
        "y_test_actual = df_testData[DV]\n",
        "\n",
        "# X_test is the predictor values in the test partition\n",
        "X_test = df_testData.drop(columns=[DV])\n",
        "\n",
        "# Use predict method of the clf_optimal object to apply the model associated with clf_optimal to the test partition\n",
        "# y_test_predicted is the predicted values of the DV in the test partition \n",
        "y_test_predicted = clf_optimal.predict(X_test)\n",
        "\n",
        "# Import the metrics package\n",
        "from sklearn import metrics\n",
        "\n",
        "# Display the confusion matrix over the test partition\n",
        "print(metrics.confusion_matrix(y_test_actual, y_test_predicted))\n",
        "\n",
        "# Display the accuracy over the test partition\n",
        "print(clf_optimal.score(X_test, y_test_actual))\n"
      ],
      "execution_count": 30,
      "outputs": [
        {
          "output_type": "stream",
          "text": [
            "                             0\n",
            "Age                  -0.206939\n",
            "Experience            0.283202\n",
            "Income                2.860680\n",
            "Family                0.705755\n",
            "CCAvg                 0.299086\n",
            "Mortgage              0.100955\n",
            "Education_2           4.116630\n",
            "Education_3           4.377923\n",
            "SecuritiesAccount_No  0.918620\n",
            "CDAccount_No         -3.661547\n",
            "Online_No             0.673737\n",
            "CreditCard_No         1.018429\n",
            "Intercept            -6.024895\n",
            "[0.001]\n",
            "[[892   8]\n",
            " [ 32  68]]\n",
            "0.96\n"
          ],
          "name": "stdout"
        }
      ]
    },
    {
      "cell_type": "code",
      "metadata": {
        "id": "ZCwZodeR_0Xd",
        "outputId": "0458d9c7-e870-45ac-ff59-439594320cfc",
        "colab": {
          "resources": {
            "http://localhost:8080/nbextensions/google.colab/files.js": {
              "data": "Ly8gQ29weXJpZ2h0IDIwMTcgR29vZ2xlIExMQwovLwovLyBMaWNlbnNlZCB1bmRlciB0aGUgQXBhY2hlIExpY2Vuc2UsIFZlcnNpb24gMi4wICh0aGUgIkxpY2Vuc2UiKTsKLy8geW91IG1heSBub3QgdXNlIHRoaXMgZmlsZSBleGNlcHQgaW4gY29tcGxpYW5jZSB3aXRoIHRoZSBMaWNlbnNlLgovLyBZb3UgbWF5IG9idGFpbiBhIGNvcHkgb2YgdGhlIExpY2Vuc2UgYXQKLy8KLy8gICAgICBodHRwOi8vd3d3LmFwYWNoZS5vcmcvbGljZW5zZXMvTElDRU5TRS0yLjAKLy8KLy8gVW5sZXNzIHJlcXVpcmVkIGJ5IGFwcGxpY2FibGUgbGF3IG9yIGFncmVlZCB0byBpbiB3cml0aW5nLCBzb2Z0d2FyZQovLyBkaXN0cmlidXRlZCB1bmRlciB0aGUgTGljZW5zZSBpcyBkaXN0cmlidXRlZCBvbiBhbiAiQVMgSVMiIEJBU0lTLAovLyBXSVRIT1VUIFdBUlJBTlRJRVMgT1IgQ09ORElUSU9OUyBPRiBBTlkgS0lORCwgZWl0aGVyIGV4cHJlc3Mgb3IgaW1wbGllZC4KLy8gU2VlIHRoZSBMaWNlbnNlIGZvciB0aGUgc3BlY2lmaWMgbGFuZ3VhZ2UgZ292ZXJuaW5nIHBlcm1pc3Npb25zIGFuZAovLyBsaW1pdGF0aW9ucyB1bmRlciB0aGUgTGljZW5zZS4KCi8qKgogKiBAZmlsZW92ZXJ2aWV3IEhlbHBlcnMgZm9yIGdvb2dsZS5jb2xhYiBQeXRob24gbW9kdWxlLgogKi8KKGZ1bmN0aW9uKHNjb3BlKSB7CmZ1bmN0aW9uIHNwYW4odGV4dCwgc3R5bGVBdHRyaWJ1dGVzID0ge30pIHsKICBjb25zdCBlbGVtZW50ID0gZG9jdW1lbnQuY3JlYXRlRWxlbWVudCgnc3BhbicpOwogIGVsZW1lbnQudGV4dENvbnRlbnQgPSB0ZXh0OwogIGZvciAoY29uc3Qga2V5IG9mIE9iamVjdC5rZXlzKHN0eWxlQXR0cmlidXRlcykpIHsKICAgIGVsZW1lbnQuc3R5bGVba2V5XSA9IHN0eWxlQXR0cmlidXRlc1trZXldOwogIH0KICByZXR1cm4gZWxlbWVudDsKfQoKLy8gTWF4IG51bWJlciBvZiBieXRlcyB3aGljaCB3aWxsIGJlIHVwbG9hZGVkIGF0IGEgdGltZS4KY29uc3QgTUFYX1BBWUxPQURfU0laRSA9IDEwMCAqIDEwMjQ7CgpmdW5jdGlvbiBfdXBsb2FkRmlsZXMoaW5wdXRJZCwgb3V0cHV0SWQpIHsKICBjb25zdCBzdGVwcyA9IHVwbG9hZEZpbGVzU3RlcChpbnB1dElkLCBvdXRwdXRJZCk7CiAgY29uc3Qgb3V0cHV0RWxlbWVudCA9IGRvY3VtZW50LmdldEVsZW1lbnRCeUlkKG91dHB1dElkKTsKICAvLyBDYWNoZSBzdGVwcyBvbiB0aGUgb3V0cHV0RWxlbWVudCB0byBtYWtlIGl0IGF2YWlsYWJsZSBmb3IgdGhlIG5leHQgY2FsbAogIC8vIHRvIHVwbG9hZEZpbGVzQ29udGludWUgZnJvbSBQeXRob24uCiAgb3V0cHV0RWxlbWVudC5zdGVwcyA9IHN0ZXBzOwoKICByZXR1cm4gX3VwbG9hZEZpbGVzQ29udGludWUob3V0cHV0SWQpOwp9CgovLyBUaGlzIGlzIHJvdWdobHkgYW4gYXN5bmMgZ2VuZXJhdG9yIChub3Qgc3VwcG9ydGVkIGluIHRoZSBicm93c2VyIHlldCksCi8vIHdoZXJlIHRoZXJlIGFyZSBtdWx0aXBsZSBhc3luY2hyb25vdXMgc3RlcHMgYW5kIHRoZSBQeXRob24gc2lkZSBpcyBnb2luZwovLyB0byBwb2xsIGZvciBjb21wbGV0aW9uIG9mIGVhY2ggc3RlcC4KLy8gVGhpcyB1c2VzIGEgUHJvbWlzZSB0byBibG9jayB0aGUgcHl0aG9uIHNpZGUgb24gY29tcGxldGlvbiBvZiBlYWNoIHN0ZXAsCi8vIHRoZW4gcGFzc2VzIHRoZSByZXN1bHQgb2YgdGhlIHByZXZpb3VzIHN0ZXAgYXMgdGhlIGlucHV0IHRvIHRoZSBuZXh0IHN0ZXAuCmZ1bmN0aW9uIF91cGxvYWRGaWxlc0NvbnRpbnVlKG91dHB1dElkKSB7CiAgY29uc3Qgb3V0cHV0RWxlbWVudCA9IGRvY3VtZW50LmdldEVsZW1lbnRCeUlkKG91dHB1dElkKTsKICBjb25zdCBzdGVwcyA9IG91dHB1dEVsZW1lbnQuc3RlcHM7CgogIGNvbnN0IG5leHQgPSBzdGVwcy5uZXh0KG91dHB1dEVsZW1lbnQubGFzdFByb21pc2VWYWx1ZSk7CiAgcmV0dXJuIFByb21pc2UucmVzb2x2ZShuZXh0LnZhbHVlLnByb21pc2UpLnRoZW4oKHZhbHVlKSA9PiB7CiAgICAvLyBDYWNoZSB0aGUgbGFzdCBwcm9taXNlIHZhbHVlIHRvIG1ha2UgaXQgYXZhaWxhYmxlIHRvIHRoZSBuZXh0CiAgICAvLyBzdGVwIG9mIHRoZSBnZW5lcmF0b3IuCiAgICBvdXRwdXRFbGVtZW50Lmxhc3RQcm9taXNlVmFsdWUgPSB2YWx1ZTsKICAgIHJldHVybiBuZXh0LnZhbHVlLnJlc3BvbnNlOwogIH0pOwp9CgovKioKICogR2VuZXJhdG9yIGZ1bmN0aW9uIHdoaWNoIGlzIGNhbGxlZCBiZXR3ZWVuIGVhY2ggYXN5bmMgc3RlcCBvZiB0aGUgdXBsb2FkCiAqIHByb2Nlc3MuCiAqIEBwYXJhbSB7c3RyaW5nfSBpbnB1dElkIEVsZW1lbnQgSUQgb2YgdGhlIGlucHV0IGZpbGUgcGlja2VyIGVsZW1lbnQuCiAqIEBwYXJhbSB7c3RyaW5nfSBvdXRwdXRJZCBFbGVtZW50IElEIG9mIHRoZSBvdXRwdXQgZGlzcGxheS4KICogQHJldHVybiB7IUl0ZXJhYmxlPCFPYmplY3Q+fSBJdGVyYWJsZSBvZiBuZXh0IHN0ZXBzLgogKi8KZnVuY3Rpb24qIHVwbG9hZEZpbGVzU3RlcChpbnB1dElkLCBvdXRwdXRJZCkgewogIGNvbnN0IGlucHV0RWxlbWVudCA9IGRvY3VtZW50LmdldEVsZW1lbnRCeUlkKGlucHV0SWQpOwogIGlucHV0RWxlbWVudC5kaXNhYmxlZCA9IGZhbHNlOwoKICBjb25zdCBvdXRwdXRFbGVtZW50ID0gZG9jdW1lbnQuZ2V0RWxlbWVudEJ5SWQob3V0cHV0SWQpOwogIG91dHB1dEVsZW1lbnQuaW5uZXJIVE1MID0gJyc7CgogIGNvbnN0IHBpY2tlZFByb21pc2UgPSBuZXcgUHJvbWlzZSgocmVzb2x2ZSkgPT4gewogICAgaW5wdXRFbGVtZW50LmFkZEV2ZW50TGlzdGVuZXIoJ2NoYW5nZScsIChlKSA9PiB7CiAgICAgIHJlc29sdmUoZS50YXJnZXQuZmlsZXMpOwogICAgfSk7CiAgfSk7CgogIGNvbnN0IGNhbmNlbCA9IGRvY3VtZW50LmNyZWF0ZUVsZW1lbnQoJ2J1dHRvbicpOwogIGlucHV0RWxlbWVudC5wYXJlbnRFbGVtZW50LmFwcGVuZENoaWxkKGNhbmNlbCk7CiAgY2FuY2VsLnRleHRDb250ZW50ID0gJ0NhbmNlbCB1cGxvYWQnOwogIGNvbnN0IGNhbmNlbFByb21pc2UgPSBuZXcgUHJvbWlzZSgocmVzb2x2ZSkgPT4gewogICAgY2FuY2VsLm9uY2xpY2sgPSAoKSA9PiB7CiAgICAgIHJlc29sdmUobnVsbCk7CiAgICB9OwogIH0pOwoKICAvLyBXYWl0IGZvciB0aGUgdXNlciB0byBwaWNrIHRoZSBmaWxlcy4KICBjb25zdCBmaWxlcyA9IHlpZWxkIHsKICAgIHByb21pc2U6IFByb21pc2UucmFjZShbcGlja2VkUHJvbWlzZSwgY2FuY2VsUHJvbWlzZV0pLAogICAgcmVzcG9uc2U6IHsKICAgICAgYWN0aW9uOiAnc3RhcnRpbmcnLAogICAgfQogIH07CgogIGNhbmNlbC5yZW1vdmUoKTsKCiAgLy8gRGlzYWJsZSB0aGUgaW5wdXQgZWxlbWVudCBzaW5jZSBmdXJ0aGVyIHBpY2tzIGFyZSBub3QgYWxsb3dlZC4KICBpbnB1dEVsZW1lbnQuZGlzYWJsZWQgPSB0cnVlOwoKICBpZiAoIWZpbGVzKSB7CiAgICByZXR1cm4gewogICAgICByZXNwb25zZTogewogICAgICAgIGFjdGlvbjogJ2NvbXBsZXRlJywKICAgICAgfQogICAgfTsKICB9CgogIGZvciAoY29uc3QgZmlsZSBvZiBmaWxlcykgewogICAgY29uc3QgbGkgPSBkb2N1bWVudC5jcmVhdGVFbGVtZW50KCdsaScpOwogICAgbGkuYXBwZW5kKHNwYW4oZmlsZS5uYW1lLCB7Zm9udFdlaWdodDogJ2JvbGQnfSkpOwogICAgbGkuYXBwZW5kKHNwYW4oCiAgICAgICAgYCgke2ZpbGUudHlwZSB8fCAnbi9hJ30pIC0gJHtmaWxlLnNpemV9IGJ5dGVzLCBgICsKICAgICAgICBgbGFzdCBtb2RpZmllZDogJHsKICAgICAgICAgICAgZmlsZS5sYXN0TW9kaWZpZWREYXRlID8gZmlsZS5sYXN0TW9kaWZpZWREYXRlLnRvTG9jYWxlRGF0ZVN0cmluZygpIDoKICAgICAgICAgICAgICAgICAgICAgICAgICAgICAgICAgICAgJ24vYSd9IC0gYCkpOwogICAgY29uc3QgcGVyY2VudCA9IHNwYW4oJzAlIGRvbmUnKTsKICAgIGxpLmFwcGVuZENoaWxkKHBlcmNlbnQpOwoKICAgIG91dHB1dEVsZW1lbnQuYXBwZW5kQ2hpbGQobGkpOwoKICAgIGNvbnN0IGZpbGVEYXRhUHJvbWlzZSA9IG5ldyBQcm9taXNlKChyZXNvbHZlKSA9PiB7CiAgICAgIGNvbnN0IHJlYWRlciA9IG5ldyBGaWxlUmVhZGVyKCk7CiAgICAgIHJlYWRlci5vbmxvYWQgPSAoZSkgPT4gewogICAgICAgIHJlc29sdmUoZS50YXJnZXQucmVzdWx0KTsKICAgICAgfTsKICAgICAgcmVhZGVyLnJlYWRBc0FycmF5QnVmZmVyKGZpbGUpOwogICAgfSk7CiAgICAvLyBXYWl0IGZvciB0aGUgZGF0YSB0byBiZSByZWFkeS4KICAgIGxldCBmaWxlRGF0YSA9IHlpZWxkIHsKICAgICAgcHJvbWlzZTogZmlsZURhdGFQcm9taXNlLAogICAgICByZXNwb25zZTogewogICAgICAgIGFjdGlvbjogJ2NvbnRpbnVlJywKICAgICAgfQogICAgfTsKCiAgICAvLyBVc2UgYSBjaHVua2VkIHNlbmRpbmcgdG8gYXZvaWQgbWVzc2FnZSBzaXplIGxpbWl0cy4gU2VlIGIvNjIxMTU2NjAuCiAgICBsZXQgcG9zaXRpb24gPSAwOwogICAgd2hpbGUgKHBvc2l0aW9uIDwgZmlsZURhdGEuYnl0ZUxlbmd0aCkgewogICAgICBjb25zdCBsZW5ndGggPSBNYXRoLm1pbihmaWxlRGF0YS5ieXRlTGVuZ3RoIC0gcG9zaXRpb24sIE1BWF9QQVlMT0FEX1NJWkUpOwogICAgICBjb25zdCBjaHVuayA9IG5ldyBVaW50OEFycmF5KGZpbGVEYXRhLCBwb3NpdGlvbiwgbGVuZ3RoKTsKICAgICAgcG9zaXRpb24gKz0gbGVuZ3RoOwoKICAgICAgY29uc3QgYmFzZTY0ID0gYnRvYShTdHJpbmcuZnJvbUNoYXJDb2RlLmFwcGx5KG51bGwsIGNodW5rKSk7CiAgICAgIHlpZWxkIHsKICAgICAgICByZXNwb25zZTogewogICAgICAgICAgYWN0aW9uOiAnYXBwZW5kJywKICAgICAgICAgIGZpbGU6IGZpbGUubmFtZSwKICAgICAgICAgIGRhdGE6IGJhc2U2NCwKICAgICAgICB9LAogICAgICB9OwogICAgICBwZXJjZW50LnRleHRDb250ZW50ID0KICAgICAgICAgIGAke01hdGgucm91bmQoKHBvc2l0aW9uIC8gZmlsZURhdGEuYnl0ZUxlbmd0aCkgKiAxMDApfSUgZG9uZWA7CiAgICB9CiAgfQoKICAvLyBBbGwgZG9uZS4KICB5aWVsZCB7CiAgICByZXNwb25zZTogewogICAgICBhY3Rpb246ICdjb21wbGV0ZScsCiAgICB9CiAgfTsKfQoKc2NvcGUuZ29vZ2xlID0gc2NvcGUuZ29vZ2xlIHx8IHt9OwpzY29wZS5nb29nbGUuY29sYWIgPSBzY29wZS5nb29nbGUuY29sYWIgfHwge307CnNjb3BlLmdvb2dsZS5jb2xhYi5fZmlsZXMgPSB7CiAgX3VwbG9hZEZpbGVzLAogIF91cGxvYWRGaWxlc0NvbnRpbnVlLAp9Owp9KShzZWxmKTsK",
              "ok": true,
              "headers": [
                [
                  "content-type",
                  "application/javascript"
                ]
              ],
              "status": 200,
              "status_text": ""
            }
          },
          "base_uri": "https://localhost:8080/",
          "height": 73
        }
      },
      "source": [
        "# Part7 Score the new data\n",
        "\n",
        "# Upload the new data file from the local drive to Colab\n",
        "from google.colab import files\n",
        "uploaded = files.upload()"
      ],
      "execution_count": 13,
      "outputs": [
        {
          "output_type": "display_data",
          "data": {
            "text/html": [
              "\n",
              "     <input type=\"file\" id=\"files-0b0218cd-80f8-48e6-ac11-315a859ad01b\" name=\"files[]\" multiple disabled\n",
              "        style=\"border:none\" />\n",
              "     <output id=\"result-0b0218cd-80f8-48e6-ac11-315a859ad01b\">\n",
              "      Upload widget is only available when the cell has been executed in the\n",
              "      current browser session. Please rerun this cell to enable.\n",
              "      </output>\n",
              "      <script src=\"/nbextensions/google.colab/files.js\"></script> "
            ],
            "text/plain": [
              "<IPython.core.display.HTML object>"
            ]
          },
          "metadata": {
            "tags": []
          }
        },
        {
          "output_type": "stream",
          "text": [
            "Saving PersonalLoan_NEWDATA.csv to PersonalLoan_NEWDATA (2).csv\n"
          ],
          "name": "stdout"
        }
      ]
    },
    {
      "cell_type": "code",
      "metadata": {
        "id": "xvd6k5nyAPsn",
        "outputId": "0748558a-83dc-442f-926f-a1d3367a85cf",
        "colab": {
          "base_uri": "https://localhost:8080/",
          "height": 235
        }
      },
      "source": [
        "# Load the data from the new data file to a Python dataframe df_newdata\n",
        "df_newdata = pd.read_csv('PersonalLoan_NEWDATA.csv')\n",
        "\n",
        "# Check if there is any regular missing value in df_newdata\n",
        "print(df_newdata.isnull().sum())"
      ],
      "execution_count": 14,
      "outputs": [
        {
          "output_type": "stream",
          "text": [
            "Age                  0\n",
            "Experience           0\n",
            "Income               0\n",
            "ZIPCode              0\n",
            "Family               0\n",
            "CCAvg                0\n",
            "Education            0\n",
            "Mortgage             0\n",
            "SecuritiesAccount    0\n",
            "CDAccount            0\n",
            "Online               0\n",
            "CreditCard           0\n",
            "dtype: int64\n"
          ],
          "name": "stdout"
        }
      ]
    },
    {
      "cell_type": "code",
      "metadata": {
        "id": "9YLq5U8EAiUV",
        "outputId": "e0f96bd3-65f6-4b6e-afee-6fc3d0c3d5f7",
        "colab": {
          "base_uri": "https://localhost:8080/",
          "height": 118
        }
      },
      "source": [
        "# Generate the categorical predictor list\n",
        "Original_DV = 'PersonalLoan'\n",
        "cpredictor_list = cvar_list.copy()\n",
        "cpredictor_list.remove(Original_DV)\n",
        "\n",
        "# Drop the redundant variable, e.g., ZIPCode as we did for the historical data\n",
        "df_newdata_sample1 = df_newdata.drop(columns=rvar_list)\n",
        "\n",
        "# Set the datatypes of the variables in the new data\n",
        "df_newdata_sample2 = df_newdata_sample1.copy()\n",
        "df_newdata_sample2[cpredictor_list] = df_newdata_sample1[cpredictor_list].astype('category')\n",
        "df_newdata_sample2[nvar_list] = df_newdata_sample1[nvar_list].astype('float64')\n",
        "\n",
        "# Derive the sample mean and the sample standard deviation of the numerical variables in the historical data \n",
        "historical_sample_mean = df_sample1[nvar_list].mean()\n",
        "historical_sample_std = df_sample1[nvar_list].std()\n",
        "\n",
        "# Use the historical sample mean and historical sample standard deviation to standardize the new data\n",
        "df_newdata_sample3 = df_newdata_sample2.copy()\n",
        "df_newdata_sample3[nvar_list] = (df_newdata_sample2[nvar_list] - historical_sample_mean[nvar_list])/historical_sample_std[nvar_list]\n",
        "\n",
        "# Code the categorical variables in the new data \n",
        "df_newdata_sample4 = pd.get_dummies(df_newdata_sample3, prefix_sep='_')\n",
        "\n",
        "# Fix the inconsistency between the predictors of the new data and the predictors required by the final selected model \n",
        "df_newdata_sample5 = df_newdata_sample4.copy()\n",
        "df_newdata_sample5['Education_2'] = 0\n",
        "\n",
        "print(df_newdata_sample5.columns.values)"
      ],
      "execution_count": 32,
      "outputs": [
        {
          "output_type": "stream",
          "text": [
            "['Education', 'SecuritiesAccount', 'CDAccount', 'Online', 'CreditCard']\n",
            "['Age' 'Experience' 'Income' 'Family' 'CCAvg' 'Mortgage' 'Education_3'\n",
            " 'SecuritiesAccount_No' 'CDAccount_No' 'Online_No' 'CreditCard_No']\n",
            "['Age' 'Experience' 'Income' 'Family' 'CCAvg' 'Mortgage' 'Education_3'\n",
            " 'SecuritiesAccount_No' 'CDAccount_No' 'Online_No' 'CreditCard_No'\n",
            " 'Education_2']\n"
          ],
          "name": "stdout"
        }
      ]
    },
    {
      "cell_type": "code",
      "metadata": {
        "id": "dGlASxKbAZi8",
        "outputId": "d2071d19-78b2-45d7-950e-9cbc9133cf7b",
        "colab": {
          "base_uri": "https://localhost:8080/",
          "height": 34
        }
      },
      "source": [
        "# Score the new data using the model carried by the model object clf_optimal \n",
        "predicted_PersonalLoan = clf_optimal.predict_proba(df_newdata_sample5)[:,1]\n",
        "\n",
        "# Print the predicted probablity for the new data observations\n",
        "print(predicted_PersonalLoan)"
      ],
      "execution_count": 35,
      "outputs": [
        {
          "output_type": "stream",
          "text": [
            "[0.04208684]\n"
          ],
          "name": "stdout"
        }
      ]
    }
  ]
}